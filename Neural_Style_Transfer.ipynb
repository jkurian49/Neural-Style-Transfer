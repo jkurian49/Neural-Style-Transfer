{
  "nbformat": 4,
  "nbformat_minor": 0,
  "metadata": {
    "accelerator": "GPU",
    "colab": {
      "name": "Neural Style Transfer.ipynb",
      "private_outputs": true,
      "provenance": [],
      "collapsed_sections": [],
      "toc_visible": true,
      "machine_shape": "hm",
      "authorship_tag": "ABX9TyMy0eidq6l8DFqHInB4qvSK",
      "include_colab_link": true
    },
    "kernelspec": {
      "display_name": "Python 3",
      "name": "python3"
    }
  },
  "cells": [
    {
      "cell_type": "markdown",
      "metadata": {
        "id": "view-in-github",
        "colab_type": "text"
      },
      "source": [
        "<a href=\"https://colab.research.google.com/github/jkurian49/Neural-Style-Transfer/blob/main/Neural_Style_Transfer.ipynb\" target=\"_parent\"><img src=\"https://colab.research.google.com/assets/colab-badge.svg\" alt=\"Open In Colab\"/></a>"
      ]
    },
    {
      "cell_type": "markdown",
      "metadata": {
        "id": "LbLSZe1p_y9R"
      },
      "source": [
        "Code adapted from TensorFlow documentation found at:\n",
        "https://www.tensorflow.org/tutorials/generative/style_transfer\n",
        "\n",
        "\n"
      ]
    },
    {
      "cell_type": "markdown",
      "metadata": {
        "id": "wieuLFWQ70zu"
      },
      "source": [
        "# Setup\n",
        "\n"
      ]
    },
    {
      "cell_type": "markdown",
      "metadata": {
        "id": "1YoOlptC2HNm"
      },
      "source": [
        "## Import Packages and Load Images"
      ]
    },
    {
      "cell_type": "code",
      "metadata": {
        "id": "NIEMB4EQ0Wp2"
      },
      "source": [
        "!git clone https://github.com/jkurian49/Neural-Style-Transfer.git\n",
        "import os\n",
        "import tensorflow as tf\n",
        "import IPython.display as display\n",
        "import matplotlib.pyplot as plt\n",
        "import matplotlib as mpl\n",
        "import numpy as np\n",
        "import PIL.Image\n",
        "import time\n",
        "import functools\n",
        "# Load compressed models from tensorflow_hub\n",
        "os.environ['TFHUB_MODEL_LOAD_FORMAT'] = 'COMPRESSED'"
      ],
      "execution_count": null,
      "outputs": []
    },
    {
      "cell_type": "code",
      "metadata": {
        "id": "kiEPdIuKAC8p"
      },
      "source": [
        "mpl.rcParams['figure.figsize'] = (12,12)\n",
        "mpl.rcParams['axes.grid'] = False"
      ],
      "execution_count": null,
      "outputs": []
    },
    {
      "cell_type": "markdown",
      "metadata": {
        "id": "wviM1K9810L6"
      },
      "source": [
        "## Image Helper Functions"
      ]
    },
    {
      "cell_type": "code",
      "metadata": {
        "id": "a0mdUQ0wAEWY"
      },
      "source": [
        "def tensor_to_image(tensor):\n",
        "  tensor = tensor*255\n",
        "  tensor = np.array(tensor, dtype=np.uint8)\n",
        "  if np.ndim(tensor)>3:\n",
        "    assert tensor.shape[0] == 1\n",
        "    tensor = tensor[0]\n",
        "  return PIL.Image.fromarray(tensor)"
      ],
      "execution_count": null,
      "outputs": []
    },
    {
      "cell_type": "code",
      "metadata": {
        "id": "FqR-By1W7oKy"
      },
      "source": [
        "def load_img(path_to_img):\n",
        "  max_dim = 512\n",
        "  img = tf.io.read_file(path_to_img)\n",
        "  img = tf.image.decode_image(img, channels=3)\n",
        "  img = tf.image.convert_image_dtype(img, tf.float32)\n",
        "\n",
        "  shape = tf.cast(tf.shape(img)[:-1], tf.float32)\n",
        "  long_dim = max(shape)\n",
        "  scale = max_dim / long_dim\n",
        "\n",
        "  new_shape = tf.cast(shape * scale, tf.int32)\n",
        "\n",
        "  img = tf.image.resize(img, new_shape)\n",
        "  img = img[tf.newaxis, :]\n",
        "  return img"
      ],
      "execution_count": null,
      "outputs": []
    },
    {
      "cell_type": "code",
      "metadata": {
        "id": "AvtNXIEk8wpQ"
      },
      "source": [
        "def imshow(image, title=None):\n",
        "  if len(image.shape) > 3:\n",
        "    image = tf.squeeze(image, axis=0)\n",
        "  plt.axis('off')\n",
        "  plt.imshow(image)\n",
        "  if title:\n",
        "    plt.title(title)"
      ],
      "execution_count": null,
      "outputs": []
    },
    {
      "cell_type": "markdown",
      "metadata": {
        "id": "ZsfERafW8DYs"
      },
      "source": [
        "# Fast Style Transfer Using TF-Hub"
      ]
    },
    {
      "cell_type": "markdown",
      "metadata": {
        "id": "BxtZUjm64pjC"
      },
      "source": [
        "## Define Content and Style Representations"
      ]
    },
    {
      "cell_type": "code",
      "metadata": {
        "id": "vC3Wv2Po-Pbr"
      },
      "source": [
        "def vgg_layers(layer_names):\n",
        "  \"\"\" Creates a vgg model that returns a list of intermediate output values.\"\"\"\n",
        "  # Load our model. Load pretrained VGG, trained on imagenet data\n",
        "  vgg = tf.keras.applications.VGG19(include_top=False, weights='imagenet')\n",
        "  vgg.trainable = False\n",
        "\n",
        "  outputs = [vgg.get_layer(name).output for name in layer_names]\n",
        "\n",
        "  model = tf.keras.Model([vgg.input], outputs)\n",
        "  return model"
      ],
      "execution_count": null,
      "outputs": []
    },
    {
      "cell_type": "code",
      "metadata": {
        "id": "xaOn3WfE-RD2"
      },
      "source": [
        "content_layers = ['block5_conv2'] \n",
        "\n",
        "style_layers = ['block1_conv1',\n",
        "                'block2_conv1',\n",
        "                'block3_conv1', \n",
        "                'block4_conv1', \n",
        "                'block5_conv1']\n",
        "\n",
        "num_content_layers = len(content_layers)\n",
        "num_style_layers = len(style_layers)\n",
        "\n",
        "# style_extractor = vgg_layers(style_layers)\n",
        "# style_outputs = style_extractor(style_image*255)\n",
        "\n",
        "# #Look at the statistics of each layer's output\n",
        "# for name, output in zip(style_layers, style_outputs):\n",
        "#   print(name)\n",
        "#   print(\"  shape: \", output.numpy().shape)\n",
        "#   print(\"  min: \", output.numpy().min())\n",
        "#   print(\"  max: \", output.numpy().max())\n",
        "#   print(\"  mean: \", output.numpy().mean())\n",
        "#   print()"
      ],
      "execution_count": null,
      "outputs": []
    },
    {
      "cell_type": "code",
      "metadata": {
        "id": "EAoKZWY3-Tu-"
      },
      "source": [
        "# used to extract style content by describing means and correlations across\n",
        "# different feature maps\n",
        "# take outer product of feature vector with itself at each location, and average\n",
        "# over all locations\n",
        "def gram_matrix(input_tensor):\n",
        "  result = tf.linalg.einsum('bijc,bijd->bcd', input_tensor, input_tensor)\n",
        "  input_shape = tf.shape(input_tensor)\n",
        "  num_locations = tf.cast(input_shape[1]*input_shape[2], tf.float32)\n",
        "  return result/(num_locations)"
      ],
      "execution_count": null,
      "outputs": []
    },
    {
      "cell_type": "code",
      "metadata": {
        "id": "-SLFOdPN-WHK"
      },
      "source": [
        "class StyleContentModel(tf.keras.models.Model):\n",
        "  def __init__(self, style_layers, content_layers):\n",
        "    super(StyleContentModel, self).__init__()\n",
        "    self.vgg =  vgg_layers(style_layers + content_layers)\n",
        "    self.style_layers = style_layers\n",
        "    self.content_layers = content_layers\n",
        "    self.num_style_layers = len(style_layers)\n",
        "    self.vgg.trainable = False\n",
        "\n",
        "  def call(self, inputs):\n",
        "    \"Expects float input in [0,1]\"\n",
        "    inputs = inputs*255.0\n",
        "    preprocessed_input = tf.keras.applications.vgg19.preprocess_input(inputs)\n",
        "    outputs = self.vgg(preprocessed_input)\n",
        "    style_outputs, content_outputs = (outputs[:self.num_style_layers], \n",
        "                                      outputs[self.num_style_layers:])\n",
        "\n",
        "    style_outputs = [gram_matrix(style_output)\n",
        "                     for style_output in style_outputs]\n",
        "\n",
        "    content_dict = {content_name:value \n",
        "                    for content_name, value \n",
        "                    in zip(self.content_layers, content_outputs)}\n",
        "\n",
        "    style_dict = {style_name:value\n",
        "                  for style_name, value\n",
        "                  in zip(self.style_layers, style_outputs)}\n",
        "\n",
        "    return {'content':content_dict, 'style':style_dict}"
      ],
      "execution_count": null,
      "outputs": []
    },
    {
      "cell_type": "markdown",
      "metadata": {
        "id": "cNnKg7DO42lv"
      },
      "source": [
        "## Run Style Transfer on All Images"
      ]
    },
    {
      "cell_type": "code",
      "metadata": {
        "id": "kvKuitLQ2-67"
      },
      "source": [
        "## Retrieve Capitol images and tapestry images\n",
        "directory = \"/content/Neural-Style-Transfer\"\n",
        "capitol_files, tapestry_files = [],[]\n",
        "for capitol_file in os.listdir(directory+\"/content_images\"):\n",
        "  if capitol_file.endswith(\".jpg\"):\n",
        "    capitol_files.append(capitol_file)\n",
        "for tapestry_file in os.listdir(directory+\"/style_images\"):\n",
        "  if tapestry_file.endswith(\".jpg\"):\n",
        "    tapestry_files.append(tapestry_file)"
      ],
      "execution_count": null,
      "outputs": []
    },
    {
      "cell_type": "code",
      "metadata": {
        "id": "AVwZSKAa-eX3"
      },
      "source": [
        "def clip_0_1(image):\n",
        "  return tf.clip_by_value(image, clip_value_min=0.0, clip_value_max=1.0)"
      ],
      "execution_count": null,
      "outputs": []
    },
    {
      "cell_type": "code",
      "metadata": {
        "id": "Zx3agmN6-iXd"
      },
      "source": [
        "def style_content_loss(outputs):\n",
        "    style_outputs = outputs['style']\n",
        "    content_outputs = outputs['content']\n",
        "    style_loss = tf.add_n([tf.reduce_mean((style_outputs[name]-style_targets[name])**2) \n",
        "                           for name in style_outputs.keys()])\n",
        "    style_loss *= style_weight / num_style_layers\n",
        "\n",
        "    content_loss = tf.add_n([tf.reduce_mean((content_outputs[name]-content_targets[name])**2) \n",
        "                             for name in content_outputs.keys()])\n",
        "    content_loss *= content_weight / num_content_layers\n",
        "    loss = style_loss + content_loss\n",
        "    return loss"
      ],
      "execution_count": null,
      "outputs": []
    },
    {
      "cell_type": "code",
      "metadata": {
        "id": "UCtL6e7R-iiT"
      },
      "source": [
        "# @tf.function()\n",
        "def train_step(image):\n",
        "  with tf.GradientTape() as tape:\n",
        "    outputs = extractor(image)\n",
        "    loss = style_content_loss(outputs)\n",
        "    loss += total_variation_weight*tf.image.total_variation(image)\n",
        "\n",
        "  grad = tape.gradient(loss, image)\n",
        "  opt.apply_gradients([(grad, image)])\n",
        "  image.assign(clip_0_1(image))"
      ],
      "execution_count": null,
      "outputs": []
    },
    {
      "cell_type": "code",
      "metadata": {
        "id": "lzliJbPQ5rYO"
      },
      "source": [
        "## Run style transfer  on all possible combinations of style and content images\n",
        "save_path = directory+\"/results/\"+os.path.splitext(capitol_file)[0]\\\n",
        "                            +\"_\"+os.path.splitext(tapestry_file)[0]\n",
        "extractor = StyleContentModel(style_layers, content_layers)\n",
        "opt = tf.optimizers.Adam(learning_rate=0.02, beta_1=0.99, epsilon=1e-1)\n",
        "# weighted combination of two losses to get total loss\n",
        "style_weight=1e-2 # beta\n",
        "content_weight=1e4 # alpha\n",
        "total_variation_weight = 30\n",
        "epochs = 10\n",
        "steps_per_epoch = 100\n",
        "for capitol_file in capitol_files:\n",
        "  for tapestry_file in tapestry_files:\n",
        "    content_image = load_img(os.path.join(directory,\"content_images\",capitol_file))\n",
        "    style_image = load_img(os.path.join(directory,\"style_images\",tapestry_file))\n",
        "    style_targets = extractor(style_image)['style']\n",
        "    content_targets = extractor(content_image)['content']\n",
        "    image = tf.Variable(content_image)\n",
        "    step = 0\n",
        "    for n in range(epochs):\n",
        "      for m in range(steps_per_epoch):\n",
        "        # if step == 0:\n",
        "        #   plt.figure()\n",
        "        #   imshow(image)\n",
        "        #   plt.savefig(save_path+\"_original.jpg\")\n",
        "        step += 1\n",
        "        train_step(image)\n",
        "        print(\".\", end='')\n",
        "        display.clear_output(wait=True)\n",
        "        display.display(tensor_to_image(image))\n",
        "        print(\"Train step: {}\".format(step))\n",
        "        # if step%50 == 0:\n",
        "        #   plt.figure()\n",
        "        #   imshow(image)\n",
        "        #   plt.savefig(save_path+\"_step\"+str(step)+\".jpg\")\n",
        "\n",
        "    # Save Results\n",
        "    \n",
        "    plt.figure()\n",
        "    imshow(image)\n",
        "    plt.savefig(save_path+\".jpg\")\n",
        "\n",
        "    # Plot Comparisons\n",
        "    # plt.figure()\n",
        "    # plt.subplot(2, 1, 1)\n",
        "    # imshow(image, 'Result')\n",
        "    # plt.subplot(2, 2, 3)\n",
        "    # imshow(content_image, 'Content Image')\n",
        "    # plt.subplot(2, 2, 4)\n",
        "    # imshow(style_image, 'Style Image')\n",
        "    # plt.savefig(save_path+\"_Comparison.jpg\")"
      ],
      "execution_count": null,
      "outputs": []
    },
    {
      "cell_type": "code",
      "metadata": {
        "id": "LpqS8Q2RYvqv"
      },
      "source": [
        "!zip -r /content/results.zip /content/Neural-Style-Transfer/results\n"
      ],
      "execution_count": null,
      "outputs": []
    }
  ]
}